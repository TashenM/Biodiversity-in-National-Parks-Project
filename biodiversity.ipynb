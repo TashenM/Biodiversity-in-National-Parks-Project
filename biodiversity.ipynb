{
 "cells": [
  {
   "cell_type": "markdown",
   "metadata": {},
   "source": [
    "# Biodiversity in National Parks\n",
    "\n",
    "## Introduction:\n",
    "\n",
    "In this project we will perform some data analysis on the conservation statuses of species in National Parks. We will be looking for any trends/patterns in the species that are in different conservation statuses. We also analyze, clean and plot the given data. The data used for this project was provided by [Codecademy](https://www.codecademy.com).\n",
    "\n",
    "We want to gain insight to the following:\n",
    "* Are there any trends/patterns to the types of species that become endangered?\n",
    "* What is the distribution of categories of species in each park?\n",
    "* What is the distribution of conservation statuses in each park?\n",
    "* Which category of species are in each conservation status?\n",
    "\n",
    "We will begin by first taking a look at the datasets we have been given:"
   ]
  },
  {
   "cell_type": "markdown",
   "metadata": {},
   "source": [
    "## Importing libraries and loading in data:"
   ]
  },
  {
   "cell_type": "code",
   "execution_count": 1,
   "metadata": {},
   "outputs": [],
   "source": [
    "import pandas as pd\n",
    "import numpy as np\n",
    "import seaborn as sns\n",
    "from matplotlib import pyplot as plt\n",
    "\n",
    "obsdf = pd.read_csv(\"observations.csv\")\n",
    "spedf = pd.read_csv(\"species_info.csv\")"
   ]
  },
  {
   "cell_type": "markdown",
   "metadata": {},
   "source": [
    "There are 2 datasets here. We will take a look at them one at a time and give a brief summary at the end of each section. We will start with the **observations** (obsdf) dataset and then look at the **species_info** (spedf) dataset.\n",
    "\n",
    "### Observations:"
   ]
  },
  {
   "cell_type": "code",
   "execution_count": 2,
   "metadata": {},
   "outputs": [
    {
     "data": {
      "text/html": [
       "<div>\n",
       "<style scoped>\n",
       "    .dataframe tbody tr th:only-of-type {\n",
       "        vertical-align: middle;\n",
       "    }\n",
       "\n",
       "    .dataframe tbody tr th {\n",
       "        vertical-align: top;\n",
       "    }\n",
       "\n",
       "    .dataframe thead th {\n",
       "        text-align: right;\n",
       "    }\n",
       "</style>\n",
       "<table border=\"1\" class=\"dataframe\">\n",
       "  <thead>\n",
       "    <tr style=\"text-align: right;\">\n",
       "      <th></th>\n",
       "      <th>scientific_name</th>\n",
       "      <th>park_name</th>\n",
       "      <th>observations</th>\n",
       "    </tr>\n",
       "  </thead>\n",
       "  <tbody>\n",
       "    <tr>\n",
       "      <th>0</th>\n",
       "      <td>Vicia benghalensis</td>\n",
       "      <td>Great Smoky Mountains National Park</td>\n",
       "      <td>68</td>\n",
       "    </tr>\n",
       "    <tr>\n",
       "      <th>1</th>\n",
       "      <td>Neovison vison</td>\n",
       "      <td>Great Smoky Mountains National Park</td>\n",
       "      <td>77</td>\n",
       "    </tr>\n",
       "    <tr>\n",
       "      <th>2</th>\n",
       "      <td>Prunus subcordata</td>\n",
       "      <td>Yosemite National Park</td>\n",
       "      <td>138</td>\n",
       "    </tr>\n",
       "    <tr>\n",
       "      <th>3</th>\n",
       "      <td>Abutilon theophrasti</td>\n",
       "      <td>Bryce National Park</td>\n",
       "      <td>84</td>\n",
       "    </tr>\n",
       "    <tr>\n",
       "      <th>4</th>\n",
       "      <td>Githopsis specularioides</td>\n",
       "      <td>Great Smoky Mountains National Park</td>\n",
       "      <td>85</td>\n",
       "    </tr>\n",
       "  </tbody>\n",
       "</table>\n",
       "</div>"
      ],
      "text/plain": [
       "            scientific_name                            park_name  observations\n",
       "0        Vicia benghalensis  Great Smoky Mountains National Park            68\n",
       "1            Neovison vison  Great Smoky Mountains National Park            77\n",
       "2         Prunus subcordata               Yosemite National Park           138\n",
       "3      Abutilon theophrasti                  Bryce National Park            84\n",
       "4  Githopsis specularioides  Great Smoky Mountains National Park            85"
      ]
     },
     "execution_count": 2,
     "metadata": {},
     "output_type": "execute_result"
    }
   ],
   "source": [
    "obsdf.head()"
   ]
  },
  {
   "cell_type": "code",
   "execution_count": 3,
   "metadata": {},
   "outputs": [
    {
     "data": {
      "text/plain": [
       "Index(['scientific_name', 'park_name', 'observations'], dtype='object')"
      ]
     },
     "execution_count": 3,
     "metadata": {},
     "output_type": "execute_result"
    }
   ],
   "source": [
    "obsdf.columns"
   ]
  },
  {
   "cell_type": "code",
   "execution_count": 4,
   "metadata": {
    "scrolled": false
   },
   "outputs": [
    {
     "data": {
      "text/plain": [
       "scientific_name    object\n",
       "park_name          object\n",
       "observations        int64\n",
       "dtype: object"
      ]
     },
     "execution_count": 4,
     "metadata": {},
     "output_type": "execute_result"
    }
   ],
   "source": [
    "obsdf.dtypes"
   ]
  },
  {
   "cell_type": "code",
   "execution_count": 5,
   "metadata": {
    "scrolled": true
   },
   "outputs": [
    {
     "data": {
      "text/plain": [
       "scientific_name    5541\n",
       "park_name             4\n",
       "observations        304\n",
       "dtype: int64"
      ]
     },
     "execution_count": 5,
     "metadata": {},
     "output_type": "execute_result"
    }
   ],
   "source": [
    "obsdf.nunique()"
   ]
  },
  {
   "cell_type": "code",
   "execution_count": 6,
   "metadata": {},
   "outputs": [
    {
     "data": {
      "text/plain": [
       "array(['Great Smoky Mountains National Park', 'Yosemite National Park',\n",
       "       'Bryce National Park', 'Yellowstone National Park'], dtype=object)"
      ]
     },
     "execution_count": 6,
     "metadata": {},
     "output_type": "execute_result"
    }
   ],
   "source": [
    "obsdf.park_name.unique()"
   ]
  },
  {
   "cell_type": "code",
   "execution_count": 7,
   "metadata": {},
   "outputs": [
    {
     "data": {
      "text/plain": [
       "(23296, 3)"
      ]
     },
     "execution_count": 7,
     "metadata": {},
     "output_type": "execute_result"
    }
   ],
   "source": [
    "obsdf.shape"
   ]
  },
  {
   "cell_type": "markdown",
   "metadata": {},
   "source": [
    "From the above information, we have that the number of unique values in scientific_name is 5541 and the number of unique values in park_name is 4. From this information we should have 5541 * 4 = 22164 unique rows in this dataset, but we have 23296 rows which means there are duplicates in the scientific_name. \n",
    "\n",
    "We will have to drop these duplicates, although keeping note of the observations that will also be dropped, we will have to get the average of these observations and keep that average with the unique scientific_name value:"
   ]
  },
  {
   "cell_type": "code",
   "execution_count": 8,
   "metadata": {},
   "outputs": [
    {
     "name": "stdout",
     "output_type": "stream",
     "text": [
      "We now have 22164 rows in obsdf after removing duplicates.\n"
     ]
    }
   ],
   "source": [
    "# We get rid of the duplicates in the scientific_name rows and because we remove the corresponding observations values with it, we replace those values with their means:\n",
    "obsdf = obsdf.groupby(['scientific_name', 'park_name']).observations.mean().reset_index()\n",
    "print(f\"We now have {len(obsdf)} rows in obsdf after removing duplicates.\")"
   ]
  },
  {
   "cell_type": "markdown",
   "metadata": {},
   "source": [
    "#### Observations Summary:\n",
    "The above information tells us that the **observations** (obsdf) dataframe now has 22164 rows and 3 columns. These columns are as follows:\n",
    "* scientific_name - scientific name of species\n",
    "* park_name - name of the national park this species is in\n",
    "* observations - number of times the species was seen in the past 7 days\n",
    "\n",
    "The **park_name** in specific contains 4 different park names which are 'Great Smoky Mountains National Park', 'Yosemite National Park', 'Bryce National Park' and 'Yellowstone National Park'."
   ]
  },
  {
   "cell_type": "markdown",
   "metadata": {},
   "source": [
    "### Species_info:"
   ]
  },
  {
   "cell_type": "code",
   "execution_count": 9,
   "metadata": {},
   "outputs": [
    {
     "data": {
      "text/html": [
       "<div>\n",
       "<style scoped>\n",
       "    .dataframe tbody tr th:only-of-type {\n",
       "        vertical-align: middle;\n",
       "    }\n",
       "\n",
       "    .dataframe tbody tr th {\n",
       "        vertical-align: top;\n",
       "    }\n",
       "\n",
       "    .dataframe thead th {\n",
       "        text-align: right;\n",
       "    }\n",
       "</style>\n",
       "<table border=\"1\" class=\"dataframe\">\n",
       "  <thead>\n",
       "    <tr style=\"text-align: right;\">\n",
       "      <th></th>\n",
       "      <th>category</th>\n",
       "      <th>scientific_name</th>\n",
       "      <th>common_names</th>\n",
       "      <th>conservation_status</th>\n",
       "    </tr>\n",
       "  </thead>\n",
       "  <tbody>\n",
       "    <tr>\n",
       "      <th>0</th>\n",
       "      <td>Mammal</td>\n",
       "      <td>Clethrionomys gapperi gapperi</td>\n",
       "      <td>Gapper's Red-Backed Vole</td>\n",
       "      <td>NaN</td>\n",
       "    </tr>\n",
       "    <tr>\n",
       "      <th>1</th>\n",
       "      <td>Mammal</td>\n",
       "      <td>Bos bison</td>\n",
       "      <td>American Bison, Bison</td>\n",
       "      <td>NaN</td>\n",
       "    </tr>\n",
       "    <tr>\n",
       "      <th>2</th>\n",
       "      <td>Mammal</td>\n",
       "      <td>Bos taurus</td>\n",
       "      <td>Aurochs, Aurochs, Domestic Cattle (Feral), Dom...</td>\n",
       "      <td>NaN</td>\n",
       "    </tr>\n",
       "    <tr>\n",
       "      <th>3</th>\n",
       "      <td>Mammal</td>\n",
       "      <td>Ovis aries</td>\n",
       "      <td>Domestic Sheep, Mouflon, Red Sheep, Sheep (Feral)</td>\n",
       "      <td>NaN</td>\n",
       "    </tr>\n",
       "    <tr>\n",
       "      <th>4</th>\n",
       "      <td>Mammal</td>\n",
       "      <td>Cervus elaphus</td>\n",
       "      <td>Wapiti Or Elk</td>\n",
       "      <td>NaN</td>\n",
       "    </tr>\n",
       "  </tbody>\n",
       "</table>\n",
       "</div>"
      ],
      "text/plain": [
       "  category                scientific_name  \\\n",
       "0   Mammal  Clethrionomys gapperi gapperi   \n",
       "1   Mammal                      Bos bison   \n",
       "2   Mammal                     Bos taurus   \n",
       "3   Mammal                     Ovis aries   \n",
       "4   Mammal                 Cervus elaphus   \n",
       "\n",
       "                                        common_names conservation_status  \n",
       "0                           Gapper's Red-Backed Vole                 NaN  \n",
       "1                              American Bison, Bison                 NaN  \n",
       "2  Aurochs, Aurochs, Domestic Cattle (Feral), Dom...                 NaN  \n",
       "3  Domestic Sheep, Mouflon, Red Sheep, Sheep (Feral)                 NaN  \n",
       "4                                      Wapiti Or Elk                 NaN  "
      ]
     },
     "execution_count": 9,
     "metadata": {},
     "output_type": "execute_result"
    }
   ],
   "source": [
    "spedf.head()"
   ]
  },
  {
   "cell_type": "code",
   "execution_count": 10,
   "metadata": {},
   "outputs": [
    {
     "data": {
      "text/plain": [
       "Index(['category', 'scientific_name', 'common_names', 'conservation_status'], dtype='object')"
      ]
     },
     "execution_count": 10,
     "metadata": {},
     "output_type": "execute_result"
    }
   ],
   "source": [
    "spedf.columns"
   ]
  },
  {
   "cell_type": "code",
   "execution_count": 11,
   "metadata": {},
   "outputs": [
    {
     "data": {
      "text/plain": [
       "category               object\n",
       "scientific_name        object\n",
       "common_names           object\n",
       "conservation_status    object\n",
       "dtype: object"
      ]
     },
     "execution_count": 11,
     "metadata": {},
     "output_type": "execute_result"
    }
   ],
   "source": [
    "spedf.dtypes"
   ]
  },
  {
   "cell_type": "code",
   "execution_count": 12,
   "metadata": {},
   "outputs": [
    {
     "data": {
      "text/plain": [
       "category                  7\n",
       "scientific_name        5541\n",
       "common_names           5504\n",
       "conservation_status       4\n",
       "dtype: int64"
      ]
     },
     "execution_count": 12,
     "metadata": {},
     "output_type": "execute_result"
    }
   ],
   "source": [
    "spedf.nunique()"
   ]
  },
  {
   "cell_type": "code",
   "execution_count": 13,
   "metadata": {},
   "outputs": [
    {
     "data": {
      "text/plain": [
       "array(['Mammal', 'Bird', 'Reptile', 'Amphibian', 'Fish', 'Vascular Plant',\n",
       "       'Nonvascular Plant'], dtype=object)"
      ]
     },
     "execution_count": 13,
     "metadata": {},
     "output_type": "execute_result"
    }
   ],
   "source": [
    "spedf.category.unique()"
   ]
  },
  {
   "cell_type": "code",
   "execution_count": 14,
   "metadata": {},
   "outputs": [
    {
     "data": {
      "text/plain": [
       "array([nan, 'Species of Concern', 'Endangered', 'Threatened',\n",
       "       'In Recovery'], dtype=object)"
      ]
     },
     "execution_count": 14,
     "metadata": {},
     "output_type": "execute_result"
    }
   ],
   "source": [
    "spedf.conservation_status.unique()"
   ]
  },
  {
   "cell_type": "code",
   "execution_count": 15,
   "metadata": {},
   "outputs": [
    {
     "data": {
      "text/plain": [
       "category                  0\n",
       "scientific_name           0\n",
       "common_names              0\n",
       "conservation_status    5633\n",
       "dtype: int64"
      ]
     },
     "execution_count": 15,
     "metadata": {},
     "output_type": "execute_result"
    }
   ],
   "source": [
    "spedf.isna().sum()"
   ]
  },
  {
   "cell_type": "code",
   "execution_count": 16,
   "metadata": {},
   "outputs": [
    {
     "data": {
      "text/plain": [
       "(5824, 4)"
      ]
     },
     "execution_count": 16,
     "metadata": {},
     "output_type": "execute_result"
    }
   ],
   "source": [
    "spedf.shape"
   ]
  },
  {
   "cell_type": "markdown",
   "metadata": {},
   "source": [
    "From the above information we have 5824 rows in this dataframe but only 5541 unique values in the scientific_name column. We will have to drop the duplicates in this column but we can ignore the duplicates from the common_names column as in this case they are acceptable. The conservation_status column contains nan values in which we will replace with 'None'."
   ]
  },
  {
   "cell_type": "code",
   "execution_count": 17,
   "metadata": {},
   "outputs": [
    {
     "name": "stdout",
     "output_type": "stream",
     "text": [
      "We have 5543 rows in spedf.\n",
      "The duplicate rows that still remain:\n"
     ]
    },
    {
     "data": {
      "text/html": [
       "<div>\n",
       "<style scoped>\n",
       "    .dataframe tbody tr th:only-of-type {\n",
       "        vertical-align: middle;\n",
       "    }\n",
       "\n",
       "    .dataframe tbody tr th {\n",
       "        vertical-align: top;\n",
       "    }\n",
       "\n",
       "    .dataframe thead th {\n",
       "        text-align: right;\n",
       "    }\n",
       "</style>\n",
       "<table border=\"1\" class=\"dataframe\">\n",
       "  <thead>\n",
       "    <tr style=\"text-align: right;\">\n",
       "      <th></th>\n",
       "      <th>category</th>\n",
       "      <th>scientific_name</th>\n",
       "      <th>common_names</th>\n",
       "      <th>conservation_status</th>\n",
       "    </tr>\n",
       "  </thead>\n",
       "  <tbody>\n",
       "    <tr>\n",
       "      <th>3018</th>\n",
       "      <td>Mammal</td>\n",
       "      <td>Canis lupus</td>\n",
       "      <td>Gray Wolf, Wolf</td>\n",
       "      <td>In Recovery</td>\n",
       "    </tr>\n",
       "    <tr>\n",
       "      <th>3247</th>\n",
       "      <td>Fish</td>\n",
       "      <td>Oncorhynchus mykiss</td>\n",
       "      <td>Rainbow Trout</td>\n",
       "      <td>Threatened</td>\n",
       "    </tr>\n",
       "  </tbody>\n",
       "</table>\n",
       "</div>"
      ],
      "text/plain": [
       "     category      scientific_name     common_names conservation_status\n",
       "3018   Mammal          Canis lupus  Gray Wolf, Wolf         In Recovery\n",
       "3247     Fish  Oncorhynchus mykiss    Rainbow Trout          Threatened"
      ]
     },
     "metadata": {},
     "output_type": "display_data"
    },
    {
     "name": "stdout",
     "output_type": "stream",
     "text": [
      "We now have 5541 rows in spedf after removing all necessary duplicated values.\n"
     ]
    }
   ],
   "source": [
    "# Dropping duplicates in spedf:\n",
    "spedf = spedf.drop_duplicates(subset = ['category', 'scientific_name', 'conservation_status']).reset_index(drop=True)\n",
    "print(f\"We have {len(spedf)} rows in spedf.\")\n",
    "# We expect to see 5541 rows which is the same number of unique values in scientific_name but we have 5543 rows.\n",
    "# We will see the duplicate rows again to make sure:\n",
    "print(\"The duplicate rows that still remain:\")\n",
    "display(spedf[spedf.scientific_name.duplicated()])\n",
    "# We see the 2 rows that are duplicates, we will drop them:\n",
    "spedf = spedf.drop(labels=[3018, 3247])\n",
    "print(f\"We now have {len(spedf)} rows in spedf after removing all necessary duplicated values.\")"
   ]
  },
  {
   "cell_type": "code",
   "execution_count": 18,
   "metadata": {},
   "outputs": [],
   "source": [
    "# Replacing all the nan values under conservation_status with 'None':\n",
    "spedf.fillna('None', inplace=True)"
   ]
  },
  {
   "cell_type": "markdown",
   "metadata": {},
   "source": [
    "#### Species_info Summary:\n",
    "\n",
    "The above informations tells us that the **species_info** (spedf) dataframe now has 5541 rows and 4 columns. These columns are as follows:\n",
    "* category - class of animal\n",
    "* scientific_name - scientific name of species\n",
    "* common_names - common names of species\n",
    "* conservation_status - status of conservation the species is currently in\n",
    "\n",
    "The **category** column contains 7 different categories of species. These are 'Mammal', 'Bird', 'Reptile', 'Amphibian', 'Fish', 'Vascular Plant' and 'Nonvascular Plant'. The **conservation_status** column contains 4 different statuses which are 'Species of Concern', 'Endangered', 'Threatened' or 'In Recovery'."
   ]
  },
  {
   "cell_type": "markdown",
   "metadata": {},
   "source": [
    "Now that we have done inspecting and cleaning the 2 datasets, we can merge them on the **scientific_name** column:"
   ]
  },
  {
   "cell_type": "code",
   "execution_count": 19,
   "metadata": {},
   "outputs": [
    {
     "data": {
      "text/html": [
       "<div>\n",
       "<style scoped>\n",
       "    .dataframe tbody tr th:only-of-type {\n",
       "        vertical-align: middle;\n",
       "    }\n",
       "\n",
       "    .dataframe tbody tr th {\n",
       "        vertical-align: top;\n",
       "    }\n",
       "\n",
       "    .dataframe thead th {\n",
       "        text-align: right;\n",
       "    }\n",
       "</style>\n",
       "<table border=\"1\" class=\"dataframe\">\n",
       "  <thead>\n",
       "    <tr style=\"text-align: right;\">\n",
       "      <th></th>\n",
       "      <th>scientific_name</th>\n",
       "      <th>park_name</th>\n",
       "      <th>observations</th>\n",
       "      <th>category</th>\n",
       "      <th>common_names</th>\n",
       "      <th>conservation_status</th>\n",
       "    </tr>\n",
       "  </thead>\n",
       "  <tbody>\n",
       "    <tr>\n",
       "      <th>0</th>\n",
       "      <td>Abies bifolia</td>\n",
       "      <td>Bryce National Park</td>\n",
       "      <td>109.0</td>\n",
       "      <td>Vascular Plant</td>\n",
       "      <td>Rocky Mountain Alpine Fir</td>\n",
       "      <td>None</td>\n",
       "    </tr>\n",
       "    <tr>\n",
       "      <th>1</th>\n",
       "      <td>Abies bifolia</td>\n",
       "      <td>Great Smoky Mountains National Park</td>\n",
       "      <td>72.0</td>\n",
       "      <td>Vascular Plant</td>\n",
       "      <td>Rocky Mountain Alpine Fir</td>\n",
       "      <td>None</td>\n",
       "    </tr>\n",
       "    <tr>\n",
       "      <th>2</th>\n",
       "      <td>Abies bifolia</td>\n",
       "      <td>Yellowstone National Park</td>\n",
       "      <td>215.0</td>\n",
       "      <td>Vascular Plant</td>\n",
       "      <td>Rocky Mountain Alpine Fir</td>\n",
       "      <td>None</td>\n",
       "    </tr>\n",
       "    <tr>\n",
       "      <th>3</th>\n",
       "      <td>Abies bifolia</td>\n",
       "      <td>Yosemite National Park</td>\n",
       "      <td>136.0</td>\n",
       "      <td>Vascular Plant</td>\n",
       "      <td>Rocky Mountain Alpine Fir</td>\n",
       "      <td>None</td>\n",
       "    </tr>\n",
       "    <tr>\n",
       "      <th>4</th>\n",
       "      <td>Abies concolor</td>\n",
       "      <td>Bryce National Park</td>\n",
       "      <td>83.0</td>\n",
       "      <td>Vascular Plant</td>\n",
       "      <td>Balsam Fir, Colorado Fir, Concolor Fir, Silver...</td>\n",
       "      <td>None</td>\n",
       "    </tr>\n",
       "  </tbody>\n",
       "</table>\n",
       "</div>"
      ],
      "text/plain": [
       "  scientific_name                            park_name  observations  \\\n",
       "0   Abies bifolia                  Bryce National Park         109.0   \n",
       "1   Abies bifolia  Great Smoky Mountains National Park          72.0   \n",
       "2   Abies bifolia            Yellowstone National Park         215.0   \n",
       "3   Abies bifolia               Yosemite National Park         136.0   \n",
       "4  Abies concolor                  Bryce National Park          83.0   \n",
       "\n",
       "         category                                       common_names  \\\n",
       "0  Vascular Plant                          Rocky Mountain Alpine Fir   \n",
       "1  Vascular Plant                          Rocky Mountain Alpine Fir   \n",
       "2  Vascular Plant                          Rocky Mountain Alpine Fir   \n",
       "3  Vascular Plant                          Rocky Mountain Alpine Fir   \n",
       "4  Vascular Plant  Balsam Fir, Colorado Fir, Concolor Fir, Silver...   \n",
       "\n",
       "  conservation_status  \n",
       "0                None  \n",
       "1                None  \n",
       "2                None  \n",
       "3                None  \n",
       "4                None  "
      ]
     },
     "metadata": {},
     "output_type": "display_data"
    },
    {
     "name": "stdout",
     "output_type": "stream",
     "text": [
      "There are 22164 rows in the df dataset above.\n"
     ]
    }
   ],
   "source": [
    "df = pd.merge(obsdf, spedf, on='scientific_name')\n",
    "display(df.head())\n",
    "print(f\"There are {len(df)} rows in the df dataset above.\")"
   ]
  },
  {
   "cell_type": "markdown",
   "metadata": {},
   "source": [
    "We now have a dataset that we can use to begin our analysis with.\n",
    "\n",
    "## Analysis:\n",
    "\n",
    "Let's begin the analysis by looking at the distribution of categories observed within each park:"
   ]
  },
  {
   "cell_type": "code",
   "execution_count": 27,
   "metadata": {
    "scrolled": true
   },
   "outputs": [
    {
     "data": {
      "text/html": [
       "<div>\n",
       "<style scoped>\n",
       "    .dataframe tbody tr th:only-of-type {\n",
       "        vertical-align: middle;\n",
       "    }\n",
       "\n",
       "    .dataframe tbody tr th {\n",
       "        vertical-align: top;\n",
       "    }\n",
       "\n",
       "    .dataframe thead th {\n",
       "        text-align: right;\n",
       "    }\n",
       "</style>\n",
       "<table border=\"1\" class=\"dataframe\">\n",
       "  <thead>\n",
       "    <tr style=\"text-align: right;\">\n",
       "      <th>category</th>\n",
       "      <th>Amphibian</th>\n",
       "      <th>Bird</th>\n",
       "      <th>Fish</th>\n",
       "      <th>Mammal</th>\n",
       "      <th>Nonvascular Plant</th>\n",
       "      <th>Reptile</th>\n",
       "      <th>Vascular Plant</th>\n",
       "    </tr>\n",
       "    <tr>\n",
       "      <th>park_name</th>\n",
       "      <th></th>\n",
       "      <th></th>\n",
       "      <th></th>\n",
       "      <th></th>\n",
       "      <th></th>\n",
       "      <th></th>\n",
       "      <th></th>\n",
       "    </tr>\n",
       "  </thead>\n",
       "  <tbody>\n",
       "    <tr>\n",
       "      <th>Bryce National Park</th>\n",
       "      <td>7299.0</td>\n",
       "      <td>48388.8</td>\n",
       "      <td>12223.0</td>\n",
       "      <td>16831.3</td>\n",
       "      <td>32992.0</td>\n",
       "      <td>7854.5</td>\n",
       "      <td>422634.7</td>\n",
       "    </tr>\n",
       "    <tr>\n",
       "      <th>Great Smoky Mountains National Park</th>\n",
       "      <td>5622.5</td>\n",
       "      <td>35299.2</td>\n",
       "      <td>9068.0</td>\n",
       "      <td>12310.7</td>\n",
       "      <td>24857.0</td>\n",
       "      <td>5616.0</td>\n",
       "      <td>318124.5</td>\n",
       "    </tr>\n",
       "    <tr>\n",
       "      <th>Yellowstone National Park</th>\n",
       "      <td>19191.5</td>\n",
       "      <td>119224.2</td>\n",
       "      <td>30131.5</td>\n",
       "      <td>41912.0</td>\n",
       "      <td>83021.0</td>\n",
       "      <td>19300.5</td>\n",
       "      <td>1060819.8</td>\n",
       "    </tr>\n",
       "    <tr>\n",
       "      <th>Yosemite National Park</th>\n",
       "      <td>11309.5</td>\n",
       "      <td>71297.8</td>\n",
       "      <td>18354.0</td>\n",
       "      <td>24893.3</td>\n",
       "      <td>49783.0</td>\n",
       "      <td>11335.0</td>\n",
       "      <td>634566.7</td>\n",
       "    </tr>\n",
       "  </tbody>\n",
       "</table>\n",
       "</div>"
      ],
      "text/plain": [
       "category                             Amphibian      Bird     Fish   Mammal  \\\n",
       "park_name                                                                    \n",
       "Bryce National Park                     7299.0   48388.8  12223.0  16831.3   \n",
       "Great Smoky Mountains National Park     5622.5   35299.2   9068.0  12310.7   \n",
       "Yellowstone National Park              19191.5  119224.2  30131.5  41912.0   \n",
       "Yosemite National Park                 11309.5   71297.8  18354.0  24893.3   \n",
       "\n",
       "category                             Nonvascular Plant  Reptile  \\\n",
       "park_name                                                         \n",
       "Bryce National Park                            32992.0   7854.5   \n",
       "Great Smoky Mountains National Park            24857.0   5616.0   \n",
       "Yellowstone National Park                      83021.0  19300.5   \n",
       "Yosemite National Park                         49783.0  11335.0   \n",
       "\n",
       "category                             Vascular Plant  \n",
       "park_name                                            \n",
       "Bryce National Park                        422634.7  \n",
       "Great Smoky Mountains National Park        318124.5  \n",
       "Yellowstone National Park                 1060819.8  \n",
       "Yosemite National Park                     634566.7  "
      ]
     },
     "execution_count": 27,
     "metadata": {},
     "output_type": "execute_result"
    }
   ],
   "source": [
    "park_cat_obs = df.groupby(['park_name', 'category']).observations.sum().apply(lambda x: round(x, 1)).reset_index()\n",
    "park_cat_obs_pivot = park_cat_obs.pivot(index='park_name', columns='category', values='observations')\n",
    "park_cat_obs_pivot"
   ]
  },
  {
   "cell_type": "markdown",
   "metadata": {},
   "source": [
    "From the above table we see the total observations of each category within each park. We can see that **Yellowstone National Park** had the highest observations across all categories whilst **Great Smoky Mountains National Park** had the least observations across all categories.\n",
    "\n",
    "From this table alone it is difficult to see relative differences within the categories of each park. So we will take a closer look using a bar plot for each park:"
   ]
  },
  {
   "cell_type": "code",
   "execution_count": 28,
   "metadata": {},
   "outputs": [
    {
     "data": {
      "image/png": "[encoded data removed]",
      "text/plain": [
       "<Figure size 1500x1000 with 4 Axes>"
      ]
     },
     "metadata": {},
     "output_type": "display_data"
    }
   ],
   "source": [
    "BNP = park_cat_obs[park_cat_obs['park_name'] == 'Bryce National Park']\n",
    "GSMNP = park_cat_obs[park_cat_obs['park_name'] == 'Great Smoky Mountains National Park']\n",
    "YeNP = park_cat_obs[park_cat_obs['park_name'] == 'Yellowstone National Park']\n",
    "YoNP = park_cat_obs[park_cat_obs['park_name'] == 'Yosemite National Park']\n",
    "\n",
    "sns.set_style('darkgrid')\n",
    "fig, axes = plt.subplots(2, 2, figsize=(15, 10), sharey=True)\n",
    "\n",
    "sns.barplot(data=BNP, x='category', y='observations', ax=axes[0, 0])\n",
    "sns.barplot(data=GSMNP, x='category', y='observations', ax=axes[0, 1])\n",
    "sns.barplot(data=YeNP, x='category', y='observations', ax=axes[1, 0])\n",
    "sns.barplot(data=YoNP, x='category', y='observations', ax=axes[1, 1])\n",
    "\n",
    "axes[0, 0].set_title('Bryce National Park')\n",
    "axes[0, 1].set_title('Great Smoky Mountains National Park')\n",
    "axes[1, 0].set_title('Yellowstone National Park')\n",
    "axes[1, 1].set_title('Yosemite National Park')\n",
    "\n",
    "for ax in axes.flat:\n",
    "    ax.set_xlabel(ax.get_xlabel(), fontsize=14)\n",
    "    ax.set_ylabel(ax.get_ylabel(), fontsize=14)\n",
    "    ax.set_title(ax.get_title(), fontsize=16)\n",
    "\n",
    "plt.tight_layout()\n",
    "plt.show()"
   ]
  },
  {
   "cell_type": "markdown",
   "metadata": {},
   "source": [
    "From the above bar plots, we can see the distribution of categories within each park. The **Vascular Plant** category seems to be the most dominantly observed category in all parks. The **Amphibian**, **Fish** and **Reptile** categories look to be the smallest 3 observed categories in each of these parks.\n",
    "\n",
    "An interesting thing to note in these plots is that the ratio of the distribution of categories seems to look the same among these 4 parks. This would be an indication that there is a difference in population sizes within each park due to the size of the parks themselves.\n",
    "\n",
    "Now, let's take a look at the distribution of the conservation statuses within each park:"
   ]
  },
  {
   "cell_type": "code",
   "execution_count": 31,
   "metadata": {
    "scrolled": false
   },
   "outputs": [
    {
     "data": {
      "text/html": [
       "<div>\n",
       "<style scoped>\n",
       "    .dataframe tbody tr th:only-of-type {\n",
       "        vertical-align: middle;\n",
       "    }\n",
       "\n",
       "    .dataframe tbody tr th {\n",
       "        vertical-align: top;\n",
       "    }\n",
       "\n",
       "    .dataframe thead th {\n",
       "        text-align: right;\n",
       "    }\n",
       "</style>\n",
       "<table border=\"1\" class=\"dataframe\">\n",
       "  <thead>\n",
       "    <tr style=\"text-align: right;\">\n",
       "      <th>conservation_status</th>\n",
       "      <th>Endangered</th>\n",
       "      <th>In Recovery</th>\n",
       "      <th>None</th>\n",
       "      <th>Species of Concern</th>\n",
       "      <th>Threatened</th>\n",
       "    </tr>\n",
       "    <tr>\n",
       "      <th>park_name</th>\n",
       "      <th></th>\n",
       "      <th></th>\n",
       "      <th></th>\n",
       "      <th></th>\n",
       "      <th></th>\n",
       "    </tr>\n",
       "  </thead>\n",
       "  <tbody>\n",
       "    <tr>\n",
       "      <th>Bryce National Park</th>\n",
       "      <td>402.3</td>\n",
       "      <td>258.0</td>\n",
       "      <td>533154.7</td>\n",
       "      <td>13981.3</td>\n",
       "      <td>427.0</td>\n",
       "    </tr>\n",
       "    <tr>\n",
       "      <th>Great Smoky Mountains National Park</th>\n",
       "      <td>294.7</td>\n",
       "      <td>189.0</td>\n",
       "      <td>400412.7</td>\n",
       "      <td>9661.5</td>\n",
       "      <td>340.0</td>\n",
       "    </tr>\n",
       "    <tr>\n",
       "      <th>Yellowstone National Park</th>\n",
       "      <td>1008.0</td>\n",
       "      <td>559.0</td>\n",
       "      <td>1337375.2</td>\n",
       "      <td>33571.3</td>\n",
       "      <td>1087.0</td>\n",
       "    </tr>\n",
       "    <tr>\n",
       "      <th>Yosemite National Park</th>\n",
       "      <td>616.3</td>\n",
       "      <td>386.0</td>\n",
       "      <td>799676.0</td>\n",
       "      <td>20189.0</td>\n",
       "      <td>672.0</td>\n",
       "    </tr>\n",
       "  </tbody>\n",
       "</table>\n",
       "</div>"
      ],
      "text/plain": [
       "conservation_status                  Endangered  In Recovery       None  \\\n",
       "park_name                                                                 \n",
       "Bryce National Park                       402.3        258.0   533154.7   \n",
       "Great Smoky Mountains National Park       294.7        189.0   400412.7   \n",
       "Yellowstone National Park                1008.0        559.0  1337375.2   \n",
       "Yosemite National Park                    616.3        386.0   799676.0   \n",
       "\n",
       "conservation_status                  Species of Concern  Threatened  \n",
       "park_name                                                            \n",
       "Bryce National Park                             13981.3       427.0  \n",
       "Great Smoky Mountains National Park              9661.5       340.0  \n",
       "Yellowstone National Park                       33571.3      1087.0  \n",
       "Yosemite National Park                          20189.0       672.0  "
      ]
     },
     "execution_count": 31,
     "metadata": {},
     "output_type": "execute_result"
    }
   ],
   "source": [
    "# To get the observations of each conservation_status for each park:\n",
    "park_conservation = df.groupby(['park_name', 'conservation_status']).observations.sum().apply(lambda x: round(x, 1)).reset_index()\n",
    "# We want to temporarily drop the 'None' status from conservation_status for the bar plot:\n",
    "park_conservation_drop = park_conservation.drop(labels=[2, 7, 12, 17])\n",
    "park_conservation_pivot = park_conservation.pivot(index='park_name', columns='conservation_status', values='observations')\n",
    "park_conservation_pivot"
   ]
  },
  {
   "cell_type": "markdown",
   "metadata": {},
   "source": [
    "From the above table, we see that the species placed in the 'None' label make up the majority of the observations. The labels 'Endangered', 'In Recovery' and 'Threatened' are comprised of much lower numbers of species than 'Species of Concern'. We are more interested in the labels 'Endangered', 'In Recovery' and 'Threatened'. We will take a closer look at these 3 labels later on.\n",
    "\n",
    "We can take a better look at the relative sizes of these labels in a bar plot below. However, due to the large number of observations in 'None' compared to the other labels, it will be temporarily removed from the bar plots to get a better look at the comparisons of the other labels:"
   ]
  },
  {
   "cell_type": "code",
   "execution_count": 23,
   "metadata": {
    "scrolled": false
   },
   "outputs": [
    {
     "data": {
      "image/png": "[encoded data removed]",
      "text/plain": [
       "<Figure size 1500x1000 with 4 Axes>"
      ]
     },
     "metadata": {},
     "output_type": "display_data"
    }
   ],
   "source": [
    "BNP_status = park_conservation_drop[park_conservation_drop['park_name'] == 'Bryce National Park']\n",
    "GSMNP_status = park_conservation_drop[park_conservation_drop['park_name'] == 'Great Smoky Mountains National Park']\n",
    "YeNP_status = park_conservation_drop[park_conservation_drop['park_name'] == 'Yellowstone National Park']\n",
    "YoNP_status = park_conservation_drop[park_conservation_drop['park_name'] == 'Yosemite National Park']\n",
    "\n",
    "sns.set_style('darkgrid')\n",
    "fig, axes = plt.subplots(2, 2, figsize=(15, 10), sharey=True)\n",
    "\n",
    "sns.barplot(data=BNP_status, x='conservation_status', y='observations', ax=axes[0, 0])\n",
    "sns.barplot(data=GSMNP_status, x='conservation_status', y='observations', ax=axes[0, 1])\n",
    "sns.barplot(data=YeNP_status, x='conservation_status', y='observations', ax=axes[1, 0])\n",
    "sns.barplot(data=YoNP_status, x='conservation_status', y='observations', ax=axes[1, 1])\n",
    "\n",
    "axes[0, 0].set_title('Bryce National Park')\n",
    "axes[0, 1].set_title('Great Smoky Mountains National Park')\n",
    "axes[1, 0].set_title('Yellowstone National Park')\n",
    "axes[1, 1].set_title('Yosemite National Park')\n",
    "\n",
    "for ax in axes.flat:\n",
    "    ax.set_xlabel(ax.get_xlabel(), fontsize=14)\n",
    "    ax.set_ylabel(ax.get_ylabel(), fontsize=14)\n",
    "    ax.set_title(ax.get_title(), fontsize=16)\n",
    "\n",
    "plt.tight_layout()\n",
    "plt.show()"
   ]
  },
  {
   "cell_type": "markdown",
   "metadata": {},
   "source": [
    "From the above bar plots we can immediately see the size difference between the 'Species of Concern' label compared to the other labels. The labels 'Endangered', 'In Recovery' and 'Threatened' are much closer in observations.\n",
    "\n",
    "We will take a closer look at the 'Endangered', 'In Recovery', 'Species of Concern' and 'Threatened' labels and see what category of species they fall under."
   ]
  },
  {
   "cell_type": "code",
   "execution_count": 32,
   "metadata": {
    "scrolled": false
   },
   "outputs": [
    {
     "name": "stdout",
     "output_type": "stream",
     "text": [
      "Bryce National Park:\n"
     ]
    },
    {
     "data": {
      "text/html": [
       "<div>\n",
       "<style scoped>\n",
       "    .dataframe tbody tr th:only-of-type {\n",
       "        vertical-align: middle;\n",
       "    }\n",
       "\n",
       "    .dataframe tbody tr th {\n",
       "        vertical-align: top;\n",
       "    }\n",
       "\n",
       "    .dataframe thead th {\n",
       "        text-align: right;\n",
       "    }\n",
       "</style>\n",
       "<table border=\"1\" class=\"dataframe\">\n",
       "  <thead>\n",
       "    <tr style=\"text-align: right;\">\n",
       "      <th>category</th>\n",
       "      <th>Amphibian</th>\n",
       "      <th>Bird</th>\n",
       "      <th>Fish</th>\n",
       "      <th>Mammal</th>\n",
       "      <th>Nonvascular Plant</th>\n",
       "      <th>Reptile</th>\n",
       "      <th>Vascular Plant</th>\n",
       "    </tr>\n",
       "    <tr>\n",
       "      <th>conservation_status</th>\n",
       "      <th></th>\n",
       "      <th></th>\n",
       "      <th></th>\n",
       "      <th></th>\n",
       "      <th></th>\n",
       "      <th></th>\n",
       "      <th></th>\n",
       "    </tr>\n",
       "  </thead>\n",
       "  <tbody>\n",
       "    <tr>\n",
       "      <th>Endangered</th>\n",
       "      <td>1.0</td>\n",
       "      <td>3.0</td>\n",
       "      <td>3.0</td>\n",
       "      <td>5.0</td>\n",
       "      <td>0.0</td>\n",
       "      <td>0.0</td>\n",
       "      <td>1.0</td>\n",
       "    </tr>\n",
       "    <tr>\n",
       "      <th>In Recovery</th>\n",
       "      <td>0.0</td>\n",
       "      <td>3.0</td>\n",
       "      <td>0.0</td>\n",
       "      <td>0.0</td>\n",
       "      <td>0.0</td>\n",
       "      <td>0.0</td>\n",
       "      <td>0.0</td>\n",
       "    </tr>\n",
       "    <tr>\n",
       "      <th>Species of Concern</th>\n",
       "      <td>3.0</td>\n",
       "      <td>38.0</td>\n",
       "      <td>4.0</td>\n",
       "      <td>20.0</td>\n",
       "      <td>5.0</td>\n",
       "      <td>5.0</td>\n",
       "      <td>34.0</td>\n",
       "    </tr>\n",
       "    <tr>\n",
       "      <th>Threatened</th>\n",
       "      <td>2.0</td>\n",
       "      <td>0.0</td>\n",
       "      <td>3.0</td>\n",
       "      <td>2.0</td>\n",
       "      <td>0.0</td>\n",
       "      <td>0.0</td>\n",
       "      <td>2.0</td>\n",
       "    </tr>\n",
       "  </tbody>\n",
       "</table>\n",
       "</div>"
      ],
      "text/plain": [
       "category             Amphibian  Bird  Fish  Mammal  Nonvascular Plant  \\\n",
       "conservation_status                                                     \n",
       "Endangered                 1.0   3.0   3.0     5.0                0.0   \n",
       "In Recovery                0.0   3.0   0.0     0.0                0.0   \n",
       "Species of Concern         3.0  38.0   4.0    20.0                5.0   \n",
       "Threatened                 2.0   0.0   3.0     2.0                0.0   \n",
       "\n",
       "category             Reptile  Vascular Plant  \n",
       "conservation_status                           \n",
       "Endangered               0.0             1.0  \n",
       "In Recovery              0.0             0.0  \n",
       "Species of Concern       5.0            34.0  \n",
       "Threatened               0.0             2.0  "
      ]
     },
     "metadata": {},
     "output_type": "display_data"
    },
    {
     "name": "stdout",
     "output_type": "stream",
     "text": [
      "Great Smoky Mountains National Park:\n"
     ]
    },
    {
     "data": {
      "text/html": [
       "<div>\n",
       "<style scoped>\n",
       "    .dataframe tbody tr th:only-of-type {\n",
       "        vertical-align: middle;\n",
       "    }\n",
       "\n",
       "    .dataframe tbody tr th {\n",
       "        vertical-align: top;\n",
       "    }\n",
       "\n",
       "    .dataframe thead th {\n",
       "        text-align: right;\n",
       "    }\n",
       "</style>\n",
       "<table border=\"1\" class=\"dataframe\">\n",
       "  <thead>\n",
       "    <tr style=\"text-align: right;\">\n",
       "      <th>category</th>\n",
       "      <th>Amphibian</th>\n",
       "      <th>Bird</th>\n",
       "      <th>Fish</th>\n",
       "      <th>Mammal</th>\n",
       "      <th>Nonvascular Plant</th>\n",
       "      <th>Reptile</th>\n",
       "      <th>Vascular Plant</th>\n",
       "    </tr>\n",
       "    <tr>\n",
       "      <th>conservation_status</th>\n",
       "      <th></th>\n",
       "      <th></th>\n",
       "      <th></th>\n",
       "      <th></th>\n",
       "      <th></th>\n",
       "      <th></th>\n",
       "      <th></th>\n",
       "    </tr>\n",
       "  </thead>\n",
       "  <tbody>\n",
       "    <tr>\n",
       "      <th>Endangered</th>\n",
       "      <td>1.0</td>\n",
       "      <td>3.0</td>\n",
       "      <td>2.0</td>\n",
       "      <td>6.0</td>\n",
       "      <td>0.0</td>\n",
       "      <td>0.0</td>\n",
       "      <td>1.0</td>\n",
       "    </tr>\n",
       "    <tr>\n",
       "      <th>In Recovery</th>\n",
       "      <td>0.0</td>\n",
       "      <td>3.0</td>\n",
       "      <td>0.0</td>\n",
       "      <td>0.0</td>\n",
       "      <td>0.0</td>\n",
       "      <td>0.0</td>\n",
       "      <td>0.0</td>\n",
       "    </tr>\n",
       "    <tr>\n",
       "      <th>Species of Concern</th>\n",
       "      <td>4.0</td>\n",
       "      <td>43.0</td>\n",
       "      <td>4.0</td>\n",
       "      <td>21.0</td>\n",
       "      <td>5.0</td>\n",
       "      <td>5.0</td>\n",
       "      <td>31.0</td>\n",
       "    </tr>\n",
       "    <tr>\n",
       "      <th>Threatened</th>\n",
       "      <td>2.0</td>\n",
       "      <td>0.0</td>\n",
       "      <td>3.0</td>\n",
       "      <td>2.0</td>\n",
       "      <td>0.0</td>\n",
       "      <td>0.0</td>\n",
       "      <td>2.0</td>\n",
       "    </tr>\n",
       "  </tbody>\n",
       "</table>\n",
       "</div>"
      ],
      "text/plain": [
       "category             Amphibian  Bird  Fish  Mammal  Nonvascular Plant  \\\n",
       "conservation_status                                                     \n",
       "Endangered                 1.0   3.0   2.0     6.0                0.0   \n",
       "In Recovery                0.0   3.0   0.0     0.0                0.0   \n",
       "Species of Concern         4.0  43.0   4.0    21.0                5.0   \n",
       "Threatened                 2.0   0.0   3.0     2.0                0.0   \n",
       "\n",
       "category             Reptile  Vascular Plant  \n",
       "conservation_status                           \n",
       "Endangered               0.0             1.0  \n",
       "In Recovery              0.0             0.0  \n",
       "Species of Concern       5.0            31.0  \n",
       "Threatened               0.0             2.0  "
      ]
     },
     "metadata": {},
     "output_type": "display_data"
    },
    {
     "name": "stdout",
     "output_type": "stream",
     "text": [
      "Yellowstone National Park:\n"
     ]
    },
    {
     "data": {
      "text/html": [
       "<div>\n",
       "<style scoped>\n",
       "    .dataframe tbody tr th:only-of-type {\n",
       "        vertical-align: middle;\n",
       "    }\n",
       "\n",
       "    .dataframe tbody tr th {\n",
       "        vertical-align: top;\n",
       "    }\n",
       "\n",
       "    .dataframe thead th {\n",
       "        text-align: right;\n",
       "    }\n",
       "</style>\n",
       "<table border=\"1\" class=\"dataframe\">\n",
       "  <thead>\n",
       "    <tr style=\"text-align: right;\">\n",
       "      <th>category</th>\n",
       "      <th>Amphibian</th>\n",
       "      <th>Bird</th>\n",
       "      <th>Fish</th>\n",
       "      <th>Mammal</th>\n",
       "      <th>Nonvascular Plant</th>\n",
       "      <th>Reptile</th>\n",
       "      <th>Vascular Plant</th>\n",
       "    </tr>\n",
       "    <tr>\n",
       "      <th>conservation_status</th>\n",
       "      <th></th>\n",
       "      <th></th>\n",
       "      <th></th>\n",
       "      <th></th>\n",
       "      <th></th>\n",
       "      <th></th>\n",
       "      <th></th>\n",
       "    </tr>\n",
       "  </thead>\n",
       "  <tbody>\n",
       "    <tr>\n",
       "      <th>Endangered</th>\n",
       "      <td>1.0</td>\n",
       "      <td>3.0</td>\n",
       "      <td>3.0</td>\n",
       "      <td>4.0</td>\n",
       "      <td>0.0</td>\n",
       "      <td>0.0</td>\n",
       "      <td>1.0</td>\n",
       "    </tr>\n",
       "    <tr>\n",
       "      <th>In Recovery</th>\n",
       "      <td>0.0</td>\n",
       "      <td>3.0</td>\n",
       "      <td>0.0</td>\n",
       "      <td>0.0</td>\n",
       "      <td>0.0</td>\n",
       "      <td>0.0</td>\n",
       "      <td>0.0</td>\n",
       "    </tr>\n",
       "    <tr>\n",
       "      <th>Species of Concern</th>\n",
       "      <td>4.0</td>\n",
       "      <td>47.0</td>\n",
       "      <td>4.0</td>\n",
       "      <td>18.0</td>\n",
       "      <td>5.0</td>\n",
       "      <td>5.0</td>\n",
       "      <td>34.0</td>\n",
       "    </tr>\n",
       "    <tr>\n",
       "      <th>Threatened</th>\n",
       "      <td>2.0</td>\n",
       "      <td>0.0</td>\n",
       "      <td>3.0</td>\n",
       "      <td>2.0</td>\n",
       "      <td>0.0</td>\n",
       "      <td>0.0</td>\n",
       "      <td>1.0</td>\n",
       "    </tr>\n",
       "  </tbody>\n",
       "</table>\n",
       "</div>"
      ],
      "text/plain": [
       "category             Amphibian  Bird  Fish  Mammal  Nonvascular Plant  \\\n",
       "conservation_status                                                     \n",
       "Endangered                 1.0   3.0   3.0     4.0                0.0   \n",
       "In Recovery                0.0   3.0   0.0     0.0                0.0   \n",
       "Species of Concern         4.0  47.0   4.0    18.0                5.0   \n",
       "Threatened                 2.0   0.0   3.0     2.0                0.0   \n",
       "\n",
       "category             Reptile  Vascular Plant  \n",
       "conservation_status                           \n",
       "Endangered               0.0             1.0  \n",
       "In Recovery              0.0             0.0  \n",
       "Species of Concern       5.0            34.0  \n",
       "Threatened               0.0             1.0  "
      ]
     },
     "metadata": {},
     "output_type": "display_data"
    },
    {
     "name": "stdout",
     "output_type": "stream",
     "text": [
      "Yosemite National Park:\n"
     ]
    },
    {
     "data": {
      "text/html": [
       "<div>\n",
       "<style scoped>\n",
       "    .dataframe tbody tr th:only-of-type {\n",
       "        vertical-align: middle;\n",
       "    }\n",
       "\n",
       "    .dataframe tbody tr th {\n",
       "        vertical-align: top;\n",
       "    }\n",
       "\n",
       "    .dataframe thead th {\n",
       "        text-align: right;\n",
       "    }\n",
       "</style>\n",
       "<table border=\"1\" class=\"dataframe\">\n",
       "  <thead>\n",
       "    <tr style=\"text-align: right;\">\n",
       "      <th>category</th>\n",
       "      <th>Amphibian</th>\n",
       "      <th>Bird</th>\n",
       "      <th>Fish</th>\n",
       "      <th>Mammal</th>\n",
       "      <th>Nonvascular Plant</th>\n",
       "      <th>Reptile</th>\n",
       "      <th>Vascular Plant</th>\n",
       "    </tr>\n",
       "    <tr>\n",
       "      <th>conservation_status</th>\n",
       "      <th></th>\n",
       "      <th></th>\n",
       "      <th></th>\n",
       "      <th></th>\n",
       "      <th></th>\n",
       "      <th></th>\n",
       "      <th></th>\n",
       "    </tr>\n",
       "  </thead>\n",
       "  <tbody>\n",
       "    <tr>\n",
       "      <th>Endangered</th>\n",
       "      <td>1.0</td>\n",
       "      <td>4.0</td>\n",
       "      <td>3.0</td>\n",
       "      <td>4.0</td>\n",
       "      <td>0.0</td>\n",
       "      <td>0.0</td>\n",
       "      <td>1.0</td>\n",
       "    </tr>\n",
       "    <tr>\n",
       "      <th>In Recovery</th>\n",
       "      <td>0.0</td>\n",
       "      <td>3.0</td>\n",
       "      <td>0.0</td>\n",
       "      <td>0.0</td>\n",
       "      <td>0.0</td>\n",
       "      <td>0.0</td>\n",
       "      <td>0.0</td>\n",
       "    </tr>\n",
       "    <tr>\n",
       "      <th>Species of Concern</th>\n",
       "      <td>4.0</td>\n",
       "      <td>41.0</td>\n",
       "      <td>3.0</td>\n",
       "      <td>17.0</td>\n",
       "      <td>5.0</td>\n",
       "      <td>5.0</td>\n",
       "      <td>30.0</td>\n",
       "    </tr>\n",
       "    <tr>\n",
       "      <th>Threatened</th>\n",
       "      <td>2.0</td>\n",
       "      <td>0.0</td>\n",
       "      <td>3.0</td>\n",
       "      <td>1.0</td>\n",
       "      <td>0.0</td>\n",
       "      <td>0.0</td>\n",
       "      <td>2.0</td>\n",
       "    </tr>\n",
       "  </tbody>\n",
       "</table>\n",
       "</div>"
      ],
      "text/plain": [
       "category             Amphibian  Bird  Fish  Mammal  Nonvascular Plant  \\\n",
       "conservation_status                                                     \n",
       "Endangered                 1.0   4.0   3.0     4.0                0.0   \n",
       "In Recovery                0.0   3.0   0.0     0.0                0.0   \n",
       "Species of Concern         4.0  41.0   3.0    17.0                5.0   \n",
       "Threatened                 2.0   0.0   3.0     1.0                0.0   \n",
       "\n",
       "category             Reptile  Vascular Plant  \n",
       "conservation_status                           \n",
       "Endangered               0.0             1.0  \n",
       "In Recovery              0.0             0.0  \n",
       "Species of Concern       5.0            30.0  \n",
       "Threatened               0.0             2.0  "
      ]
     },
     "metadata": {},
     "output_type": "display_data"
    }
   ],
   "source": [
    "# Creating a dataset using the observations of conservation statuses but excluding the 'None' label:\n",
    "cat_count = df[df['conservation_status'] != 'None'].groupby(['park_name', 'conservation_status', 'category']).observations.nunique().reset_index()\n",
    "\n",
    "# Gathering the datasets seperately for each park:\n",
    "BNP_cat = cat_count[cat_count['park_name'] == 'Bryce National Park']\n",
    "GSMNP_cat = cat_count[cat_count['park_name'] == 'Great Smoky Mountains National Park']\n",
    "YeNP_cat = cat_count[cat_count['park_name'] == 'Yellowstone National Park']\n",
    "YoNP_cat = cat_count[cat_count['park_name'] == 'Yosemite National Park']\n",
    "\n",
    "# Using a function to pivot the above datasets for each park:\n",
    "def category_count(data):\n",
    "    NP_cat_pivot = data.pivot(index='conservation_status', columns='category', values='observations')\n",
    "    NP_cat_pivot.fillna(0, inplace=True)\n",
    "    return NP_cat_pivot\n",
    "\n",
    "print(f\"{BNP_cat['park_name'].values[0]}:\")\n",
    "display(category_count(BNP_cat))\n",
    "print(f\"{GSMNP_cat['park_name'].values[0]}:\")\n",
    "display(category_count(GSMNP_cat))\n",
    "print(f\"{YeNP_cat['park_name'].values[0]}:\")\n",
    "display(category_count(YeNP_cat))\n",
    "print(f\"{YoNP_cat['park_name'].values[0]}:\")\n",
    "display(category_count(YoNP_cat))"
   ]
  },
  {
   "cell_type": "markdown",
   "metadata": {},
   "source": [
    "From the above tables, the 4 different parks all have very similar patterns, so any trends identified here should appear in all 4 parks:\n",
    "* 'Endangered' - there seems to be a trend in that all but the **Nonvascular Plant** and **Reptile** categories are considered 'Endangered'.\n",
    "* 'In Recovery' - the **Bird** category is the only category of species in all 4 parks under this label.\n",
    "* 'Species of Concern' - we have all categories falling under this label with the **Bird** category being the most common.\n",
    "* 'Threatened' - we see the same categories that appeared in the 'Endangered' label but excluding the **Bird** category.\n",
    "\n",
    "We will now go into more detail of the 'Endangered', 'In Recovery' and 'Threatened' labels and view the corresponding species found in these labels:"
   ]
  },
  {
   "cell_type": "code",
   "execution_count": 36,
   "metadata": {
    "scrolled": false
   },
   "outputs": [
    {
     "name": "stdout",
     "output_type": "stream",
     "text": [
      "Endangered Species:\n"
     ]
    },
    {
     "data": {
      "text/html": [
       "<div>\n",
       "<style scoped>\n",
       "    .dataframe tbody tr th:only-of-type {\n",
       "        vertical-align: middle;\n",
       "    }\n",
       "\n",
       "    .dataframe tbody tr th {\n",
       "        vertical-align: top;\n",
       "    }\n",
       "\n",
       "    .dataframe thead th {\n",
       "        text-align: right;\n",
       "    }\n",
       "</style>\n",
       "<table border=\"1\" class=\"dataframe\">\n",
       "  <thead>\n",
       "    <tr style=\"text-align: right;\">\n",
       "      <th></th>\n",
       "      <th>category</th>\n",
       "      <th>scientific_name</th>\n",
       "      <th>common_names</th>\n",
       "      <th>observations</th>\n",
       "    </tr>\n",
       "  </thead>\n",
       "  <tbody>\n",
       "    <tr>\n",
       "      <th>0</th>\n",
       "      <td>Amphibian</td>\n",
       "      <td>Rana sierrae</td>\n",
       "      <td>Sierra Nevada Yellow-Legged Frog</td>\n",
       "      <td>11.0</td>\n",
       "    </tr>\n",
       "    <tr>\n",
       "      <th>1</th>\n",
       "      <td>Bird</td>\n",
       "      <td>Grus americana</td>\n",
       "      <td>Whooping Crane</td>\n",
       "      <td>13.0</td>\n",
       "    </tr>\n",
       "    <tr>\n",
       "      <th>2</th>\n",
       "      <td>Mammal</td>\n",
       "      <td>Canis rufus</td>\n",
       "      <td>Red Wolf</td>\n",
       "      <td>13.0</td>\n",
       "    </tr>\n",
       "    <tr>\n",
       "      <th>3</th>\n",
       "      <td>Mammal</td>\n",
       "      <td>Myotis sodalis</td>\n",
       "      <td>Indiana Bat, Indiana Or Social Myotis</td>\n",
       "      <td>14.0</td>\n",
       "    </tr>\n",
       "    <tr>\n",
       "      <th>4</th>\n",
       "      <td>Bird</td>\n",
       "      <td>Gymnogyps californianus</td>\n",
       "      <td>California Condor</td>\n",
       "      <td>15.0</td>\n",
       "    </tr>\n",
       "    <tr>\n",
       "      <th>5</th>\n",
       "      <td>Bird</td>\n",
       "      <td>Picoides borealis</td>\n",
       "      <td>Red-Cockaded Woodpecker</td>\n",
       "      <td>15.0</td>\n",
       "    </tr>\n",
       "    <tr>\n",
       "      <th>6</th>\n",
       "      <td>Bird</td>\n",
       "      <td>Vermivora bachmanii</td>\n",
       "      <td>Bachman's Warbler, Bachman's Wood Warbler</td>\n",
       "      <td>18.0</td>\n",
       "    </tr>\n",
       "    <tr>\n",
       "      <th>7</th>\n",
       "      <td>Mammal</td>\n",
       "      <td>Canis lupus</td>\n",
       "      <td>Gray Wolf</td>\n",
       "      <td>19.7</td>\n",
       "    </tr>\n",
       "    <tr>\n",
       "      <th>8</th>\n",
       "      <td>Mammal</td>\n",
       "      <td>Glaucomys sabrinus coloratus</td>\n",
       "      <td>Carolina Northern Flying Squirrel, Northern Fl...</td>\n",
       "      <td>21.0</td>\n",
       "    </tr>\n",
       "    <tr>\n",
       "      <th>9</th>\n",
       "      <td>Fish</td>\n",
       "      <td>Noturus baileyi</td>\n",
       "      <td>Smoky Madtom</td>\n",
       "      <td>22.0</td>\n",
       "    </tr>\n",
       "    <tr>\n",
       "      <th>10</th>\n",
       "      <td>Mammal</td>\n",
       "      <td>Ovis canadensis sierrae</td>\n",
       "      <td>Sierra Nevada Bighorn Sheep</td>\n",
       "      <td>22.0</td>\n",
       "    </tr>\n",
       "    <tr>\n",
       "      <th>11</th>\n",
       "      <td>Fish</td>\n",
       "      <td>Chasmistes liorus</td>\n",
       "      <td>June Sucker</td>\n",
       "      <td>23.0</td>\n",
       "    </tr>\n",
       "    <tr>\n",
       "      <th>12</th>\n",
       "      <td>Fish</td>\n",
       "      <td>Etheostoma percnurum</td>\n",
       "      <td>Duskytail Darter</td>\n",
       "      <td>25.0</td>\n",
       "    </tr>\n",
       "    <tr>\n",
       "      <th>13</th>\n",
       "      <td>Vascular Plant</td>\n",
       "      <td>Geum radiatum</td>\n",
       "      <td>Mountain Avens, Spreading Avens</td>\n",
       "      <td>25.0</td>\n",
       "    </tr>\n",
       "    <tr>\n",
       "      <th>14</th>\n",
       "      <td>Mammal</td>\n",
       "      <td>Myotis grisescens</td>\n",
       "      <td>Gray Myotis</td>\n",
       "      <td>26.0</td>\n",
       "    </tr>\n",
       "  </tbody>\n",
       "</table>\n",
       "</div>"
      ],
      "text/plain": [
       "          category               scientific_name  \\\n",
       "0        Amphibian                  Rana sierrae   \n",
       "1             Bird                Grus americana   \n",
       "2           Mammal                   Canis rufus   \n",
       "3           Mammal                Myotis sodalis   \n",
       "4             Bird       Gymnogyps californianus   \n",
       "5             Bird             Picoides borealis   \n",
       "6             Bird           Vermivora bachmanii   \n",
       "7           Mammal                   Canis lupus   \n",
       "8           Mammal  Glaucomys sabrinus coloratus   \n",
       "9             Fish               Noturus baileyi   \n",
       "10          Mammal       Ovis canadensis sierrae   \n",
       "11            Fish             Chasmistes liorus   \n",
       "12            Fish          Etheostoma percnurum   \n",
       "13  Vascular Plant                 Geum radiatum   \n",
       "14          Mammal             Myotis grisescens   \n",
       "\n",
       "                                         common_names  observations  \n",
       "0                    Sierra Nevada Yellow-Legged Frog          11.0  \n",
       "1                                      Whooping Crane          13.0  \n",
       "2                                            Red Wolf          13.0  \n",
       "3               Indiana Bat, Indiana Or Social Myotis          14.0  \n",
       "4                                   California Condor          15.0  \n",
       "5                             Red-Cockaded Woodpecker          15.0  \n",
       "6           Bachman's Warbler, Bachman's Wood Warbler          18.0  \n",
       "7                                           Gray Wolf          19.7  \n",
       "8   Carolina Northern Flying Squirrel, Northern Fl...          21.0  \n",
       "9                                        Smoky Madtom          22.0  \n",
       "10                        Sierra Nevada Bighorn Sheep          22.0  \n",
       "11                                        June Sucker          23.0  \n",
       "12                                   Duskytail Darter          25.0  \n",
       "13                    Mountain Avens, Spreading Avens          25.0  \n",
       "14                                        Gray Myotis          26.0  "
      ]
     },
     "metadata": {},
     "output_type": "display_data"
    },
    {
     "name": "stdout",
     "output_type": "stream",
     "text": [
      "In Recovery Species:\n"
     ]
    },
    {
     "data": {
      "text/html": [
       "<div>\n",
       "<style scoped>\n",
       "    .dataframe tbody tr th:only-of-type {\n",
       "        vertical-align: middle;\n",
       "    }\n",
       "\n",
       "    .dataframe tbody tr th {\n",
       "        vertical-align: top;\n",
       "    }\n",
       "\n",
       "    .dataframe thead th {\n",
       "        text-align: right;\n",
       "    }\n",
       "</style>\n",
       "<table border=\"1\" class=\"dataframe\">\n",
       "  <thead>\n",
       "    <tr style=\"text-align: right;\">\n",
       "      <th></th>\n",
       "      <th>category</th>\n",
       "      <th>scientific_name</th>\n",
       "      <th>common_names</th>\n",
       "      <th>observations</th>\n",
       "    </tr>\n",
       "  </thead>\n",
       "  <tbody>\n",
       "    <tr>\n",
       "      <th>0</th>\n",
       "      <td>Bird</td>\n",
       "      <td>Pelecanus occidentalis</td>\n",
       "      <td>Brown Pelican</td>\n",
       "      <td>47.0</td>\n",
       "    </tr>\n",
       "    <tr>\n",
       "      <th>1</th>\n",
       "      <td>Bird</td>\n",
       "      <td>Falco peregrinus anatum</td>\n",
       "      <td>American Peregrine Falcon</td>\n",
       "      <td>70.0</td>\n",
       "    </tr>\n",
       "    <tr>\n",
       "      <th>2</th>\n",
       "      <td>Bird</td>\n",
       "      <td>Haliaeetus leucocephalus</td>\n",
       "      <td>Bald Eagle</td>\n",
       "      <td>72.0</td>\n",
       "    </tr>\n",
       "  </tbody>\n",
       "</table>\n",
       "</div>"
      ],
      "text/plain": [
       "  category           scientific_name               common_names  observations\n",
       "0     Bird    Pelecanus occidentalis              Brown Pelican          47.0\n",
       "1     Bird   Falco peregrinus anatum  American Peregrine Falcon          70.0\n",
       "2     Bird  Haliaeetus leucocephalus                 Bald Eagle          72.0"
      ]
     },
     "metadata": {},
     "output_type": "display_data"
    },
    {
     "name": "stdout",
     "output_type": "stream",
     "text": [
      "Threatened Species:\n"
     ]
    },
    {
     "data": {
      "text/html": [
       "<div>\n",
       "<style scoped>\n",
       "    .dataframe tbody tr th:only-of-type {\n",
       "        vertical-align: middle;\n",
       "    }\n",
       "\n",
       "    .dataframe tbody tr th {\n",
       "        vertical-align: top;\n",
       "    }\n",
       "\n",
       "    .dataframe thead th {\n",
       "        text-align: right;\n",
       "    }\n",
       "</style>\n",
       "<table border=\"1\" class=\"dataframe\">\n",
       "  <thead>\n",
       "    <tr style=\"text-align: right;\">\n",
       "      <th></th>\n",
       "      <th>category</th>\n",
       "      <th>scientific_name</th>\n",
       "      <th>common_names</th>\n",
       "      <th>observations</th>\n",
       "    </tr>\n",
       "  </thead>\n",
       "  <tbody>\n",
       "    <tr>\n",
       "      <th>0</th>\n",
       "      <td>Fish</td>\n",
       "      <td>Erimonax monachus</td>\n",
       "      <td>Spotfin Chub</td>\n",
       "      <td>18.0</td>\n",
       "    </tr>\n",
       "    <tr>\n",
       "      <th>1</th>\n",
       "      <td>Amphibian</td>\n",
       "      <td>Anaxyrus canorus</td>\n",
       "      <td>Yosemite Toad</td>\n",
       "      <td>30.0</td>\n",
       "    </tr>\n",
       "    <tr>\n",
       "      <th>2</th>\n",
       "      <td>Mammal</td>\n",
       "      <td>Myotis septentrionalis</td>\n",
       "      <td>Northern Long-Eared Bat, Northern Myotis</td>\n",
       "      <td>34.0</td>\n",
       "    </tr>\n",
       "    <tr>\n",
       "      <th>3</th>\n",
       "      <td>Fish</td>\n",
       "      <td>Noturus flavipinnis</td>\n",
       "      <td>Yellowfin Madtom</td>\n",
       "      <td>36.0</td>\n",
       "    </tr>\n",
       "    <tr>\n",
       "      <th>4</th>\n",
       "      <td>Vascular Plant</td>\n",
       "      <td>Isotria medeoloides</td>\n",
       "      <td>Small Whorled Pogonia</td>\n",
       "      <td>36.0</td>\n",
       "    </tr>\n",
       "    <tr>\n",
       "      <th>5</th>\n",
       "      <td>Amphibian</td>\n",
       "      <td>Rana draytonii</td>\n",
       "      <td>California Red-Legged Frog</td>\n",
       "      <td>37.0</td>\n",
       "    </tr>\n",
       "    <tr>\n",
       "      <th>6</th>\n",
       "      <td>Mammal</td>\n",
       "      <td>Ursus arctos horribilis</td>\n",
       "      <td>Grizzly Bear</td>\n",
       "      <td>38.0</td>\n",
       "    </tr>\n",
       "    <tr>\n",
       "      <th>7</th>\n",
       "      <td>Vascular Plant</td>\n",
       "      <td>Spiraea virginiana</td>\n",
       "      <td>Virginia Spiraea</td>\n",
       "      <td>45.0</td>\n",
       "    </tr>\n",
       "    <tr>\n",
       "      <th>8</th>\n",
       "      <td>Fish</td>\n",
       "      <td>Oncorhynchus clarkii henshawi</td>\n",
       "      <td>Lahontan Cutthroat Trout</td>\n",
       "      <td>48.0</td>\n",
       "    </tr>\n",
       "  </tbody>\n",
       "</table>\n",
       "</div>"
      ],
      "text/plain": [
       "         category                scientific_name  \\\n",
       "0            Fish              Erimonax monachus   \n",
       "1       Amphibian               Anaxyrus canorus   \n",
       "2          Mammal         Myotis septentrionalis   \n",
       "3            Fish            Noturus flavipinnis   \n",
       "4  Vascular Plant            Isotria medeoloides   \n",
       "5       Amphibian                 Rana draytonii   \n",
       "6          Mammal        Ursus arctos horribilis   \n",
       "7  Vascular Plant             Spiraea virginiana   \n",
       "8            Fish  Oncorhynchus clarkii henshawi   \n",
       "\n",
       "                               common_names  observations  \n",
       "0                              Spotfin Chub          18.0  \n",
       "1                             Yosemite Toad          30.0  \n",
       "2  Northern Long-Eared Bat, Northern Myotis          34.0  \n",
       "3                          Yellowfin Madtom          36.0  \n",
       "4                     Small Whorled Pogonia          36.0  \n",
       "5                California Red-Legged Frog          37.0  \n",
       "6                              Grizzly Bear          38.0  \n",
       "7                          Virginia Spiraea          45.0  \n",
       "8                  Lahontan Cutthroat Trout          48.0  "
      ]
     },
     "metadata": {},
     "output_type": "display_data"
    }
   ],
   "source": [
    "# Grouping the corresponding 'Endangered', 'In Recovery' and 'Threatened' species:\n",
    "endangered = df[df['conservation_status'] == 'Endangered'].groupby(['category', 'scientific_name', 'common_names'])\\\n",
    "                                                          .observations\\\n",
    "                                                          .min()\\\n",
    "                                                          .apply(lambda x: round(x, 1))\\\n",
    "                                                          .sort_values()\\\n",
    "                                                          .reset_index()\n",
    "\n",
    "in_recovery = df[df['conservation_status'] == 'In Recovery'].groupby(['category', 'scientific_name', 'common_names'])\\\n",
    "                                                          .observations\\\n",
    "                                                          .min()\\\n",
    "                                                          .sort_values()\\\n",
    "                                                          .reset_index()\n",
    "\n",
    "\n",
    "threatened = df[df['conservation_status'] == 'Threatened'].groupby(['category', 'scientific_name', 'common_names'])\\\n",
    "                                                          .observations\\\n",
    "                                                          .min()\\\n",
    "                                                          .sort_values()\\\n",
    "                                                          .reset_index()\n",
    "\n",
    "print(\"Endangered Species:\")\n",
    "display(endangered)\n",
    "print(\"In Recovery Species:\")\n",
    "display(in_recovery)\n",
    "print(\"Threatened Species:\")\n",
    "display(threatened)"
   ]
  },
  {
   "cell_type": "markdown",
   "metadata": {},
   "source": [
    "From the above we see the different species that fall under each of the 3 conservation status labels that we are interested in. The common name used for the specific species are included under the **common_names** column. There seems to be more **Mammals** and **Birds** present in the 'Endangered' list. The 'In Recovery' list only contains **Birds** whilst the 'Threatened' list includes categories of **Fish**, **Amphibian**, **Mammal** and **Vascular Plant**.\n",
    "\n",
    "Now although we do not have more information that can help motivate reason for a species being in one of these 3 conservation status labels, it must be stated that there are many other factors that are taken into consideration when assessing what conservation category a species should be placed under. The observation counts of a species can help provide insight into its current population count and over time you can use this to get a population trend of the specific species. Looking at the species in the 'In Recovery' list above, we can see that their observation counts are much higher than the observation counts for species that are 'Endangered' which would be logical given that an endangered species would have a smaller/decreasing population compared to species which are not endangered.\n",
    "\n",
    "With the above information from the datasets, they are arranged so that the least observed species is at the top of the list for each conservation status label. This can be used as a list for each of the parks to ensure more priority starting with the species at the top."
   ]
  },
  {
   "cell_type": "markdown",
   "metadata": {},
   "source": [
    "## Conclusion:\n",
    "This project gave the following insights:\n",
    "* Population sizes among each park are relative to the size of the park.\n",
    "* The Vascular Plant category was the most dominant category in all parks. \n",
    "* The Amphibian, Fish and Reptile were the 3 smallest categories in all parks.\n",
    "* The conservation status label 'None' made up the majority of the observations. \n",
    "* The 'Endangered', 'In Recovery' and 'Threatened' labels contained much fewer total observations than the 'Species of Concern' label.\n",
    "* The Mammal and Bird categories were the most frequent occuring in the endangered species. \n",
    "* The Nonvascular Plant and Reptile categories seemed to be the least in danger species.\n",
    "* The Bird category was the only category observed under the 'In Recovery' label.\n",
    "* In the 'Threatened' label, there were Fish, Amphibians, Mammals and Vascular Plants."
   ]
  },
  {
   "cell_type": "markdown",
   "metadata": {},
   "source": [
    "## Further Research:\n",
    "* There are species under the 'None' conservation status with very low observation counts and if these species have not yet been finalized under a certain conservation status, then a seperate list of potential species that need to be reviewed can be made for the parks to pay closer attention to.\n",
    "* If more observations can be gathered over time for each of these parks, then a more insightful analysis can be made with viewing changes in observations of certain species."
   ]
  }
 ],
 "metadata": {
  "kernelspec": {
   "display_name": "Python 3 (ipykernel)",
   "language": "python",
   "name": "python3"
  },
  "language_info": {
   "codemirror_mode": {
    "name": "ipython",
    "version": 3
   },
   "file_extension": ".py",
   "mimetype": "text/x-python",
   "name": "python",
   "nbconvert_exporter": "python",
   "pygments_lexer": "ipython3",
   "version": "3.10.9"
  }
 },
 "nbformat": 4,
 "nbformat_minor": 4
}
